{
  "nbformat": 4,
  "nbformat_minor": 0,
  "metadata": {
    "colab": {
      "provenance": [],
      "gpuType": "T4"
    },
    "kernelspec": {
      "name": "python3",
      "display_name": "Python 3"
    },
    "language_info": {
      "name": "python"
    },
    "accelerator": "GPU"
  },
  "cells": [
    {
      "cell_type": "markdown",
      "source": [
        "#Frozen Lake Environment\n",
        "Goal of the agent is: To navigate through the frozen lake and find the goal without falling to the holes.\n",
        "\n",
        "There are:\n",
        "- 16 states 1 per square\n",
        "- 4 possible actions (LEFT, RIGHT, DOWN, UP)\n",
        "- 4 different types of blocks (S-start, F-frozen, H-hole, G-goal)"
      ],
      "metadata": {
        "id": "lSEOH5-sm2Ty"
      }
    },
    {
      "cell_type": "code",
      "execution_count": 5,
      "metadata": {
        "colab": {
          "base_uri": "https://localhost:8080/"
        },
        "id": "GCYZxS1clPrp",
        "outputId": "6f81cba3-d49c-485a-ba26-9e05ce94aabf"
      },
      "outputs": [
        {
          "output_type": "stream",
          "name": "stderr",
          "text": [
            "/usr/local/lib/python3.10/dist-packages/gym/core.py:317: DeprecationWarning: \u001b[33mWARN: Initializing wrapper in old step API which returns one bool instead of two. It is recommended to set `new_step_api=True` to use new step API. This will be the default behaviour in future.\u001b[0m\n",
            "  deprecation(\n",
            "/usr/local/lib/python3.10/dist-packages/gym/wrappers/step_api_compatibility.py:39: DeprecationWarning: \u001b[33mWARN: Initializing environment in old step API which returns one bool instead of two. It is recommended to set `new_step_api=True` to use new step API. This will be the default behaviour in future.\u001b[0m\n",
            "  deprecation(\n"
          ]
        }
      ],
      "source": [
        "import gym #Gym is OpenAI toolkit for developing and comparing Reinforcement Learning Algorithms\n",
        "import numpy as np\n",
        "import time\n",
        "\n",
        "#Loading the environment\n",
        "env = gym.make('FrozenLake-v1') #I will use the FrozenLake environment\n",
        "\n",
        "states = env.observation_space.n\n",
        "actions = env.action_space.n\n",
        "\n",
        "Q = np.zeros((states, actions)) #Create a matrix with all 0s\n",
        "\n",
        "episodes = 15000 #how many times to run the environment from the beginning\n",
        "max_steps = 100 #max number of steps allowed for each run of the environment\n",
        "\n",
        "learning_rate = 0.81\n",
        "gamma = 0.96\n",
        "\n",
        "render = False\n",
        "\n",
        "epsilon = 0.9 # 90% chance of picking a random action"
      ]
    },
    {
      "cell_type": "markdown",
      "source": [
        "#Picking an action\n",
        "We can pick an action using one of two ways:\n",
        "1. Pick an action randomly\n",
        "2. Pick based on the current Q-Table to find the best action\n",
        "\n",
        "Epsilon - variable that tells us a probability of selecting a random action. Epsilon's value starts offvery high and slowly decrease as the agents learns more about the environment"
      ],
      "metadata": {
        "id": "FVAz-IyEnCKr"
      }
    },
    {
      "cell_type": "code",
      "source": [
        "rewards = []\n",
        "for episode in range(episodes):\n",
        "\n",
        "  state = env.reset() #reset environment to the inintial state\n",
        "  for _ in range(max_steps):\n",
        "    if render:\n",
        "      env.render()\n",
        "\n",
        "    if np.random.uniform(0,1) < epsilon: # Check if the randomly selected value is less than epsilon\n",
        "      action = env.action_space.sample() #returns the random action from the action space\n",
        "    else:\n",
        "      action =np.argmax(Q[state, :]) # Use q-table to choose  the best action on the current state, max argument from the current state row\n",
        "\n",
        "    next_state, reward, done, _ = env.step(action)\n",
        "\n",
        "    Q[state, action] = Q[state, action] + learning_rate * (reward + gamma * np.max(Q[next_state, :]) - Q[state, action])\n",
        "\n",
        "    state = next_state\n",
        "\n",
        "    if done:\n",
        "      rewards.append(reward)\n",
        "      epsilon -= 0.001\n",
        "      break\n",
        "\n",
        "print(Q)\n",
        "print(f\"Average reward: {sum(rewards)/len(rewards)}: \" )"
      ],
      "metadata": {
        "colab": {
          "base_uri": "https://localhost:8080/"
        },
        "id": "3ElMOqp4l3tr",
        "outputId": "57e14b12-1f16-46bf-f950-01275003db68"
      },
      "execution_count": 6,
      "outputs": [
        {
          "output_type": "stream",
          "name": "stderr",
          "text": [
            "/usr/local/lib/python3.10/dist-packages/gym/utils/passive_env_checker.py:241: DeprecationWarning: `np.bool8` is a deprecated alias for `np.bool_`.  (Deprecated NumPy 1.24)\n",
            "  if not isinstance(terminated, (bool, np.bool8)):\n"
          ]
        },
        {
          "output_type": "stream",
          "name": "stdout",
          "text": [
            "[[3.36581801e-01 2.37615636e-02 1.79162840e-02 2.26743076e-02]\n",
            " [3.16051786e-03 1.12085860e-03 9.17572368e-03 1.21954030e-01]\n",
            " [5.92469848e-03 5.88399484e-03 9.15434765e-03 1.68806005e-01]\n",
            " [2.57999419e-03 2.25526828e-04 7.78624261e-03 1.32505814e-01]\n",
            " [4.04650924e-01 1.28809966e-03 1.14586111e-02 2.03151800e-03]\n",
            " [0.00000000e+00 0.00000000e+00 0.00000000e+00 0.00000000e+00]\n",
            " [9.32552428e-03 2.01393335e-07 1.92266404e-07 1.68145905e-07]\n",
            " [0.00000000e+00 0.00000000e+00 0.00000000e+00 0.00000000e+00]\n",
            " [5.17319066e-03 3.51294744e-03 2.94554786e-03 3.05945920e-01]\n",
            " [6.29291916e-03 7.33520394e-01 3.44475441e-03 4.33014901e-03]\n",
            " [8.08949335e-01 5.04677708e-04 3.66154220e-04 6.63689401e-04]\n",
            " [0.00000000e+00 0.00000000e+00 0.00000000e+00 0.00000000e+00]\n",
            " [0.00000000e+00 0.00000000e+00 0.00000000e+00 0.00000000e+00]\n",
            " [3.76695788e-02 3.29763441e-02 9.21218107e-01 2.28221091e-02]\n",
            " [6.94470569e-02 9.93812557e-01 1.37486207e-01 1.66160043e-01]\n",
            " [0.00000000e+00 0.00000000e+00 0.00000000e+00 0.00000000e+00]]\n",
            "Average reward: 0.6958666666666666: \n"
          ]
        }
      ]
    },
    {
      "cell_type": "code",
      "source": [
        "#We can plot the trainig progress and see how the agent improved\n",
        "import matplotlib.pyplot as plt\n",
        "\n",
        "def get_average(values):\n",
        "  return sum(values)/len(values)\n",
        "\n",
        "avg_rewards = []\n",
        "for i in range(0, len(rewards), 100):\n",
        "  avg_rewards.append(get_average(rewards[i:i+1000]))\n",
        "\n",
        "plt.plot(avg_rewards)\n",
        "plt.ylabel('average reward')\n",
        "plt.xlabel('episodes (100s)')\n",
        "plt.show()"
      ],
      "metadata": {
        "colab": {
          "base_uri": "https://localhost:8080/",
          "height": 449
        },
        "id": "qyIstDtll4kG",
        "outputId": "325370e2-43ab-4ef4-d429-1343567400a4"
      },
      "execution_count": 7,
      "outputs": [
        {
          "output_type": "display_data",
          "data": {
            "text/plain": [
              "<Figure size 640x480 with 1 Axes>"
            ],
            "image/png": "[encoded data removed]"
          },
          "metadata": {}
        }
      ]
    }
  ]
}